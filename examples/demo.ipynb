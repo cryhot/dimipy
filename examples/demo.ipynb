{
 "cells": [
  {
   "cell_type": "code",
   "execution_count": 1,
   "metadata": {},
   "outputs": [],
   "source": [
    "import sys\n",
    "repo_dir = \"..\"\n",
    "if repo_dir not in sys.path: sys.path.append(repo_dir)\n",
    "!{sys.executable} -m pip install -e ..[dev] >/dev/null"
   ]
  },
  {
   "cell_type": "markdown",
   "metadata": {},
   "source": [
    "Some configuration for an AWESOME demo!  \n",
    "(you can ignore this or play with it)  \n",
    "\n",
    "> **pro tip:**\n",
    "> add a bunch of imports and configs to your [`PYTHONSTARTUP`](https://docs.python.org/3/using/cmdline.html#envvar-PYTHONSTARTUP) file \n",
    "> (like `from dimipy.units import *`).\n",
    "> You have now an enhanced calculator!"
   ]
  },
  {
   "cell_type": "code",
   "execution_count": 2,
   "metadata": {},
   "outputs": [],
   "source": [
    "import dimipy\n",
    "fractions:bool = True\n",
    "dimipy.params.update(\n",
    "    str_formatter=dimipy.formatters.PrettyFormatter(amount_spacing=\" \",unit_color=True,fractions=fractions),\n",
    "    repr_formatter=dimipy.formatters.PrettyFormatter(amount_spacing=\" \",unit_color=True,fractions=fractions),\n",
    "    display_formatter=dimipy.formatters.LatexFormatter(amount_spacing=r\"\\ \",unit_color=True,fractions=fractions),\n",
    "    #_unitary_scale=1., _unitary_amount=1.,\n",
    ")"
   ]
  },
  {
   "cell_type": "markdown",
   "metadata": {},
   "source": [
    "## Self contained examples"
   ]
  },
  {
   "cell_type": "code",
   "execution_count": 3,
   "metadata": {},
   "outputs": [
    {
     "name": "stdout",
     "output_type": "stream",
     "text": [
      "2.7853123608316444e+45\u001b[36m (31556925M)\u001b[0m\n",
      "87895893272337138379613529519400592167777687618715648\u001b[36m (1M)\u001b[0m\n",
      "35902615.95297045\u001b[36m (3.17⋅10⁻⁸)\u001b[0m\n",
      "1.137709582063856\n"
     ]
    }
   ],
   "source": [
    "from dimipy.units import * # see source file for exhaustive list of standard units\n",
    "from dimipy.constants import c,G\n",
    "\n",
    "u_age       =      13.799e9*y_                 # y_ is defined as (s_*31556925)\n",
    "u_radius    =m_+   c * u_age                   # checks that result is a length, unit will still be (m_*y_/s_) = (m_*31556925)\n",
    "u_crit_mass =kg_+  0.5 * c**2 / G * u_radius   # checks that result is a mass\n",
    "u_mass      =      1e53*kg_                    # https://en.wikipedia.org/wiki/Universe\n",
    "\n",
    "print( u_crit_mass       ) # unit is kg_*31556925 = Unit[31556925 * M]\n",
    "print( u_crit_mass  +kg_ ) # print it in standard units\n",
    "\n",
    "print( u_mass / u_crit_mass      ) # unit is s_/y_ = Unit[3.1688765e-08 * 1]\n",
    "print( u_mass / u_crit_mass  +0. ) # print it as a Unit.SCALAR"
   ]
  },
  {
   "cell_type": "markdown",
   "metadata": {},
   "source": [
    "### Temperature"
   ]
  },
  {
   "cell_type": "code",
   "execution_count": 4,
   "metadata": {},
   "outputs": [],
   "source": [
    "from dimipy.units.si import K_, zero_celsius\n",
    "from dimipy.units.imperial import Ra_, zero_farenheit\n",
    "T_absolute = 300.*K_\n",
    "\n",
    "T_celsius = 27.*K_  # use Kelvin instead of Celsius\n",
    "T_celsius = T_absolute -zero_celsius\n",
    "T_absolute = T_celsius +zero_celsius\n",
    "\n",
    "T_farenheit = 80.*Ra_  # use Rankine instead of Farenheit\n",
    "T_farenheit = T_absolute -zero_farenheit\n",
    "T_farenheit = T_celsius +zero_celsius-zero_farenheit\n",
    "T_absolute = T_farenheit +zero_farenheit+K_  # if Kelvin desired"
   ]
  },
  {
   "cell_type": "markdown",
   "metadata": {},
   "source": [
    "## Create custom dimensions, units and quantities"
   ]
  },
  {
   "cell_type": "code",
   "execution_count": 5,
   "metadata": {},
   "outputs": [],
   "source": [
    "from dimipy import Dimension, Unit, Quantity"
   ]
  },
  {
   "cell_type": "markdown",
   "metadata": {},
   "source": [
    "### Dimensions"
   ]
  },
  {
   "cell_type": "markdown",
   "metadata": {},
   "source": [
    "`Dimension(**symbols)` is effectively a subtype of `dict`.\n",
    "Any symbol amount can be retreived with `dim[symbol]`, nonregistred symbols will return `0`.\n",
    "\n",
    "`Dimension` objects are immutable once created."
   ]
  },
  {
   "cell_type": "code",
   "execution_count": 6,
   "metadata": {},
   "outputs": [],
   "source": [
    "length = Dimension(L=1)\n",
    "speed  = Dimension(L=1, T=-1)\n",
    "acceleration = Dimension( {'L':1, 'T':-2} )"
   ]
  },
  {
   "cell_type": "markdown",
   "metadata": {},
   "source": [
    "### Units"
   ]
  },
  {
   "cell_type": "markdown",
   "metadata": {},
   "source": [
    "`Unit(scale:Numeric, dim:Dimension)` also accepts any number of `*args` (`Dimension`,`Unit`,`Quantity` or unitless objects) as well as dimension `**symbols`, the resulting unit will be the product of all of its arguments.\n",
    "If `scale` is not specified, it is set to `dimipy.params['_base_scale']` (equal to `1`).\n",
    "\n",
    "`scale` is an arbitrary non-zero numeric value; only relative scale between different units of the same dimension matters.\n",
    "The convention is that reference units (e.g. SI units) have scale `1`.\n",
    "\n",
    "`Unit` objects are immutable once created."
   ]
  },
  {
   "cell_type": "code",
   "execution_count": 7,
   "metadata": {},
   "outputs": [],
   "source": [
    "m_    = Unit(scale=1, dim=length)       # a unit is composed of a dimension and a scale\n",
    "km_   = Unit(scale=1000, dim=length)    # scale is relative to the SI-unit\n",
    "kn_   = Unit(0.514444,speed)            # the knot definition\n",
    "kg_   = Unit(1,M=1)     # the dimension parameters can be passed as kwargs\n",
    "s_    = Unit(T=1)       # a unit with scale 1 (default)\n",
    "min_  = Unit(60,T=1)    # a unit with scale 60\n",
    "h_    = s_ * 3600       # a unit with scale 3600 (s_ MUST be on left)\n",
    "d_    = h_ * 24         # a unit with scale 3600 * 24 = 86400\n",
    "km_h_ = km_ / h_        # equivalent to Unit(1000/3600, speed)\n",
    "N_    = Unit(M=1,L=1,T=-2)\n",
    "J_    = Unit(M=1,L=2,T=-2) +N_*m_ # checks the compatibility of units (homogeneity)\n",
    "W_    = Unit(M=1,L=2,T=-3) +J_/s_ # actually, W_ takes the value of (J_/s_), the last term"
   ]
  },
  {
   "cell_type": "markdown",
   "metadata": {},
   "source": [
    "### Quantities"
   ]
  },
  {
   "cell_type": "markdown",
   "metadata": {},
   "source": [
    "`Quantity(amount:Numeric, unit:Unit)` also accepts any number of `*args` (`Unit`,`Quantity` or unitless objects, but no `Dimension`), the resulting unit will be the product of all of its arguments.\n",
    "If `amount` is not specified, it is set to `0`.\n",
    "\n",
    "Contrary to `Dimension` and `Unit`, `Quantity` objects can be altered once created."
   ]
  },
  {
   "cell_type": "code",
   "execution_count": 8,
   "metadata": {},
   "outputs": [],
   "source": [
    "g = Quantity(amount=9.81, unit=m_*s_**-2)  # a quantity is composed of a unit and an amount\n",
    "c = 299792458 * (m_/s_)             # ((m_/s_) MUST be on right)\n",
    "sun_earth = (8*min_ + 20*s_) / c    # operation between quantities (result is a distance)\n",
    "au_ = Unit(sun_earth)               # create a unit from a quantity"
   ]
  },
  {
   "cell_type": "code",
   "execution_count": 9,
   "metadata": {},
   "outputs": [
    {
     "name": "stdout",
     "output_type": "stream",
     "text": [
      "5396264244/5\u001b[36m (5/18LT⁻¹)\u001b[0m\n",
      "1079252848.8 km/h\n",
      "10:20:06\n"
     ]
    }
   ],
   "source": [
    "time = 9*h_ + 80.1*min_     # first convert 9*h_ in min_, then add\n",
    "time.convert(d_)            # convert time in place in minutes\n",
    "time.convert()              # convert time in place in SI, i.e. in s_\n",
    "time2 = time +d_            # Quantity + Unit -> convert the quantity (time2 in d_)\n",
    "time3 = d_+ time            # Unit + Quantity -> only checks the compatibility (time3 still in s_)\n",
    "time3 += d_                 # same as time3.convert(d_)\n",
    "b1 = (time2 == time3)       # True\n",
    "b2 = ( 12*d_ < 1e6*s_ )     # False\n",
    "print( c +km_h_ )           # print the speed of light in kilometers per hour\n",
    "print( f\"{c /(km_/h_)+0.} km/h\" ) # print the converted amount; adding zero converts to Unit.SCALAR\n",
    "print( f\"{time //h_:n}:{time%h_ //min_:02n}:{time%min_ //s_:02n}\" ) # prints '10:20:06'"
   ]
  },
  {
   "cell_type": "markdown",
   "metadata": {},
   "source": [
    "## Formatters\n",
    "See  [`dimipy.formatters`](formatters.py) for available formatters."
   ]
  },
  {
   "cell_type": "code",
   "execution_count": 10,
   "metadata": {},
   "outputs": [],
   "source": [
    "import dimipy\n",
    "dimipy.params.update(\n",
    "    str_formatter=dimipy.formatters.PrettyFormatter(amount_spacing=\" \",unit_color=True,fractions=False),\n",
    "    repr_formatter=dimipy.formatters.PrettyFormatter(amount_spacing=\" \",unit_color=True,fractions=False),\n",
    "    display_formatter=dimipy.formatters.LatexFormatter(amount_spacing=r\"\\ \",unit_color=True,fractions=False),\n",
    ")\n"
   ]
  },
  {
   "cell_type": "code",
   "execution_count": 11,
   "metadata": {},
   "outputs": [
    {
     "name": "stdout",
     "output_type": "stream",
     "text": [
      "1.21\u001b[36m (10^9 M L^2 T^-3)\u001b[0m\n",
      "1.21\u001b[36m(10⁹ML²T⁻³)\u001b[0m\n",
      "1.21\u001b[36m (10⁹⋅M⋅L²⋅T⁻³)\u001b[0m\n",
      "Quantity[1.21 * (10⁹ * M L² T⁻³)]\n",
      "1.21 * Unit(Fraction(1000000000, 1), M=1, L=2, T=-3)\n",
      "Quantity(1.21, Unit(Fraction(1000000000, 1), M=1, L=2, T=-3))\n",
      "$1.21\\ {\\color{cyan}\\left({10}^{9}\\cdot\\mathsf{M}\\cdot\\mathsf{L}^{2}\\cdot\\mathsf{T}^{-3}\\right)}$\n"
     ]
    },
    {
     "data": {
      "text/latex": [
       "$1.21{\\color{cyan}\\left({10}^{9}\\mathsf{M}\\mathsf{L}^{2}\\mathsf{T}^{-3}\\right)}$"
      ],
      "text/plain": [
       "$1.21{\\color{cyan}\\left({10}^{9}\\mathsf{M}\\mathsf{L}^{2}\\mathsf{T}^{-3}\\right)}$"
      ]
     },
     "metadata": {},
     "output_type": "display_data"
    },
    {
     "data": {
      "text/latex": [
       "$1.21\\ {\\color{cyan}\\left({10}^{9}\\cdot\\mathsf{M}\\cdot\\mathsf{L}^{2}\\cdot\\mathsf{T}^{-3}\\right)}$"
      ],
      "text/plain": [
       "$1.21\\ {\\color{cyan}\\left({10}^{9}\\cdot\\mathsf{M}\\cdot\\mathsf{L}^{2}\\cdot\\mathsf{T}^{-3}\\right)}$"
      ]
     },
     "metadata": {},
     "output_type": "display_data"
    }
   ],
   "source": [
    "from dimipy.units import *\n",
    "from dimipy.formatters import *\n",
    "quantity = 1.21*GW_\n",
    "print(Formatter().format(quantity))\n",
    "print(PrettyFormatter().format(quantity))\n",
    "print(PrettyFormatter(amount_spacing=\" \",dim_spacing=\"⋅\").format(quantity))\n",
    "print(LegacyFormatter(unit_color=False).format(quantity))\n",
    "print(CodeFormatter().format(quantity))\n",
    "print(CodeFormatter(explicit_type=True).format(quantity))\n",
    "print(LatexFormatter(amount_spacing=r\"\\ \",dim_spacing=r\"\\cdot\").format(quantity))\n",
    "\n",
    "from IPython.display import display\n",
    "display(LatexFormatter().Display(quantity))\n",
    "display(LatexFormatter(amount_spacing=r\"\\ \",dim_spacing=r\"\\cdot\").Display(quantity))"
   ]
  },
  {
   "cell_type": "code",
   "execution_count": 12,
   "metadata": {},
   "outputs": [
    {
     "name": "stdout",
     "output_type": "stream",
     "text": [
      "Formatter(),                        Quantity:  1.21\u001b[36m (10^9 M L^2 T^-3)\u001b[0m\n",
      "Formatter(),                        Unit:      \u001b[36m(10^9 M L^2 T^-3)\u001b[0m\n",
      "Formatter(),                        Dimension: \u001b[36m[M L^2 T^-3]\u001b[0m\n",
      "\n",
      "PrettyFormatter(),                  Quantity:  1.21\u001b[36m(10⁹ML²T⁻³)\u001b[0m\n",
      "PrettyFormatter(),                  Unit:      \u001b[36m(10⁹ML²T⁻³)\u001b[0m\n",
      "PrettyFormatter(),                  Dimension: \u001b[36m[ML²T⁻³]\u001b[0m\n",
      "\n",
      "LegacyFormatter(),                  Quantity:  Quantity[1.21\u001b[36m * (10⁹ * M L² T⁻³)\u001b[0m]\n",
      "LegacyFormatter(),                  Unit:      \u001b[36mUnit[10⁹ * M L² T⁻³]\u001b[0m\n",
      "LegacyFormatter(),                  Dimension: \u001b[36mDimension[M L² T⁻³]\u001b[0m\n",
      "\n",
      "LatexFormatter(),                   Quantity:  $1.21{\\color{cyan}\\left({10}^{9}\\mathsf{M}\\mathsf{L}^{2}\\mathsf{T}^{-3}\\right)}$\n",
      "LatexFormatter(),                   Unit:      ${\\color{cyan}\\left({10}^{9}\\mathsf{M}\\mathsf{L}^{2}\\mathsf{T}^{-3}\\right)}$\n",
      "LatexFormatter(),                   Dimension: ${\\color{cyan}\\left[\\mathsf{M}\\mathsf{L}^{2}\\mathsf{T}^{-3}\\right]}$\n",
      "\n",
      "CodeFormatter(),                    Quantity:  1.21 * Unit(Fraction(1000000000, 1), M=1, L=2, T=-3)\n",
      "CodeFormatter(),                    Unit:      Unit(Fraction(1000000000, 1), M=1, L=2, T=-3)\n",
      "CodeFormatter(),                    Dimension: Dimension(M=1, L=2, T=-3)\n",
      "\n",
      "CodeFormatter(explicit_type=True),  Quantity:  Quantity(1.21, Unit(Fraction(1000000000, 1), M=1, L=2, T=-3))\n",
      "CodeFormatter(explicit_type=True),  Unit:      Unit(Fraction(1000000000, 1), M=1, L=2, T=-3)\n",
      "CodeFormatter(explicit_type=True),  Dimension: Dimension(M=1, L=2, T=-3)\n",
      "\n",
      "CodeFormatter(arg_spacing=''),      Quantity:  1.21*Unit(Fraction(1000000000, 1),M=1,L=2,T=-3)\n",
      "CodeFormatter(arg_spacing=''),      Unit:      Unit(Fraction(1000000000, 1),M=1,L=2,T=-3)\n",
      "CodeFormatter(arg_spacing=''),      Dimension: Dimension(M=1,L=2,T=-3)\n",
      "\n"
     ]
    }
   ],
   "source": [
    "from dimipy.units import *\n",
    "quantity = 1.21*GW_\n",
    "values = [quantity, quantity.unit, quantity.unit.dim]\n",
    "\n",
    "from dimipy.formatters import Formatter\n",
    "import dimipy.formatters\n",
    "formatters = []\n",
    "for name,var in dimipy.formatters.__dict__.items():\n",
    "    if not isinstance(var,type): continue\n",
    "    if not issubclass(var,Formatter): continue\n",
    "    formatter = var()\n",
    "    formatters.append(formatter)\n",
    "formatters.extend([\n",
    "    dimipy.formatters.CodeFormatter(explicit_type=True),\n",
    "    dimipy.formatters.CodeFormatter(arg_spacing=\"\"),\n",
    "])\n",
    "\n",
    "for formatter in formatters:\n",
    "    # print(f\"{formatter!r:>15}: \"+\" \".join(\n",
    "    #     f\"{formatter.format(value):90}\"\n",
    "    #     for value in values\n",
    "    # ))\n",
    "\n",
    "    for value in values:\n",
    "        print(f\"{repr(formatter)+',':35} {value.__class__.__qualname__+':':10} {formatter.format(value)}\")\n",
    "    print()"
   ]
  },
  {
   "cell_type": "markdown",
   "metadata": {},
   "source": [
    "## Tests"
   ]
  },
  {
   "cell_type": "code",
   "execution_count": 13,
   "metadata": {},
   "outputs": [
    {
     "name": "stdout",
     "output_type": "stream",
     "text": [
      "\u001b[36m(10³⁰⁰)\u001b[0m       from 1e+300\n",
      "\u001b[36m(10⁻³⁰⁰)\u001b[0m      from 1e-300\n",
      "\u001b[36m(1.23⋅10³⁰⁰)\u001b[0m  from 1.23456789e+300\n",
      "\u001b[36m(1.23⋅10⁻³⁰⁰)\u001b[0m from 1.23456789e-300\n",
      "\u001b[36m(10⁻⁶⁰)\u001b[0m       from 1e-60\n",
      "\u001b[36m(10²⁰)\u001b[0m        from 100000000000000000000\n",
      "\u001b[36m(10⁻²)\u001b[0m        from 0.01\n",
      "\u001b[36m(64)\u001b[0m          from 64\n",
      "\u001b[36m(5⋅10⁵)\u001b[0m       from 500000\n",
      "\u001b[36m(5.1⋅10⁷)\u001b[0m     from 51000000.0\n",
      "\u001b[36m(2/3)\u001b[0m         from 0.6666666666666666\n",
      "\u001b[36m(1/1500)\u001b[0m      from 0.0006666666666666666\n",
      "\u001b[36m(1/1500000)\u001b[0m   from Fraction(1, 1500000)\n",
      "\u001b[36m(1.23⋅10⁸)\u001b[0m    from 123456789\n",
      "\u001b[36m(12345679)\u001b[0m    from 12345678.9\n",
      "\u001b[36m(1234568)\u001b[0m     from 1234567.8900000001\n",
      "\u001b[36m(123457)\u001b[0m      from 123456.789\n",
      "\u001b[36m(12346)\u001b[0m       from 12345.6789\n",
      "\u001b[36m(1235)\u001b[0m        from 1234.56789\n",
      "\u001b[36m(123.5)\u001b[0m       from 123.456789\n",
      "\u001b[36m(12.35)\u001b[0m       from 12.3456789\n",
      "\u001b[36m(1.235)\u001b[0m       from 1.2345678900000001\n",
      "\u001b[36m(0.1235)\u001b[0m      from 0.12345678900000001\n",
      "\u001b[36m(0.01235)\u001b[0m     from 0.0123456789\n",
      "\u001b[36m(0.001235)\u001b[0m    from 0.00123456789\n",
      "\u001b[36m(0.0001235)\u001b[0m   from 0.000123456789\n",
      "\u001b[36m(1.23⋅10⁻⁵)\u001b[0m   from 1.23456789e-05\n",
      "\u001b[36m(1.23⋅10⁻⁶)\u001b[0m   from 1.23456789e-06\n",
      "\u001b[36m(1.23⋅10⁻⁷)\u001b[0m   from 1.2345678900000002e-07\n",
      "\u001b[36m(1.23⋅10⁻⁸)\u001b[0m   from 1.23456789e-08\n",
      "\u001b[36m(1.23⋅10⁻⁹)\u001b[0m   from 1.2345678900000001e-09\n",
      "\u001b[36m(10⁻³)\u001b[0m        from 0.001\n",
      "\u001b[36m(10⁻²)\u001b[0m        from 0.01\n",
      "\u001b[36m(0.1)\u001b[0m         from 0.1\n",
      "\u001b[36m(1)\u001b[0m           from 1\n",
      "\u001b[36m(10)\u001b[0m          from 10\n",
      "\u001b[36m(10²)\u001b[0m         from 100\n",
      "\u001b[36m(10³)\u001b[0m         from 1000\n",
      "\u001b[36m(2⁻⁴)\u001b[0m         from 0.0625\n",
      "\u001b[36m(1/8)\u001b[0m         from 0.125\n",
      "\u001b[36m(1/4)\u001b[0m         from 0.25\n",
      "\u001b[36m(0.5)\u001b[0m         from 0.5\n",
      "\u001b[36m(1)\u001b[0m           from 1\n",
      "\u001b[36m(2)\u001b[0m           from 2\n",
      "\u001b[36m(4)\u001b[0m           from 4\n",
      "\u001b[36m(8)\u001b[0m           from 8\n",
      "\u001b[36m(16)\u001b[0m          from 16\n",
      "\u001b[36m(32)\u001b[0m          from 32\n",
      "\u001b[36m(64)\u001b[0m          from 64\n",
      "\u001b[36m(2⁷)\u001b[0m          from 128\n"
     ]
    }
   ],
   "source": [
    "from dimipy import Unit, formatters\n",
    "from fractions import Fraction\n",
    "scales = [\n",
    "    1e300,\n",
    "    1e-300,\n",
    "    1.23456789e300,\n",
    "    1.23456789e-300,\n",
    "    10**-60,\n",
    "    10**20,\n",
    "    10**-2,\n",
    "    2**6,\n",
    "    5*10**5,\n",
    "    5.1*10**7,\n",
    "    2/3,\n",
    "    2/3000,\n",
    "    Fraction(\"2/3000000\"),\n",
    "]\n",
    "for e in range(18): scales.append(123456789*10**-e)\n",
    "for e in range(-3,3+1): scales.append(10**e)\n",
    "for e in range(-4,7+1): scales.append(2**e)\n",
    "formatter = formatters.PrettyFormatter(\n",
    "    fractions=True,  # fraction display with inference\n",
    "    # fractions=None,  # fraction display without inference\n",
    "    # fractions=False, # fraction rounded\n",
    ")\n",
    "for scale in scales:\n",
    "    print(f\"{formatter.format(Unit(scale)):22} from {scale!r}\")"
   ]
  }
 ],
 "metadata": {
  "kernelspec": {
   "display_name": "Python 3",
   "language": "python",
   "name": "python3"
  },
  "language_info": {
   "codemirror_mode": {
    "name": "ipython",
    "version": 3
   },
   "file_extension": ".py",
   "mimetype": "text/x-python",
   "name": "python",
   "nbconvert_exporter": "python",
   "pygments_lexer": "ipython3",
   "version": "3.6.9"
  },
  "orig_nbformat": 4
 },
 "nbformat": 4,
 "nbformat_minor": 2
}
